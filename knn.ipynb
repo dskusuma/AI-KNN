{
 "cells": [
  {
   "cell_type": "markdown",
   "metadata": {},
   "source": [
    "# K-Nearest Neighbors"
   ]
  },
  {
   "cell_type": "markdown",
   "metadata": {},
   "source": [
    "### Assignment Description:\n",
    "\n",
    "Diberikan file DataTrain_Tugas3_AI.csv berupa himpunan data berisi 800 data yang memiliki 5 atribut input (X1, X2, X3, X4, dan X5) dan 1 output yang memiliki 4 kelas/label (0, 1, 2, dan 3). Bangunlah sebuah sistem klasifikasi menggunakan metode k-Nearest Neighbors untuk menentukan kelas/label data testing dalam file DataTest_Tugas3_AI.csv. Sistem membaca masukan file DataTrain_Tugas3_AI.csv dan DataTest_Tugas3_AI.csv dan mengeluarkan output berupa file TebakanTugas3.csv berupa satu kolom berisi 200 baris angka bernilai integer/bulat (0, 1, 2, atau 3) yang menyatakan kelas/label baris atau record yang bersesuaian pada file DataTest_Tugas3_AI.csv."
   ]
  },
  {
   "cell_type": "markdown",
   "metadata": {},
   "source": [
    "## Code (the fun part begin...)"
   ]
  },
  {
   "cell_type": "markdown",
   "metadata": {},
   "source": [
    "### Import libraries"
   ]
  },
  {
   "cell_type": "code",
   "execution_count": 153,
   "metadata": {},
   "outputs": [],
   "source": [
    "# Import libraries\n",
    "import pandas as pd\n",
    "import matplotlib.pyplot as plt\n",
    "import numpy as np"
   ]
  },
  {
   "cell_type": "code",
   "execution_count": 172,
   "metadata": {},
   "outputs": [],
   "source": [
    "# Import dataset untuk training\n",
    "training_set = pd.read_csv(\"DataTrain_Tugas3_AI.csv\")\n",
    "X_training = training_set.iloc[:, 1:5].values\n",
    "y_training = training_set.iloc[:, 6].values\n",
    "\n",
    "# Split dataset untuk training dan validasi\n",
    "from sklearn.cross_validation import train_test_split\n",
    "X_train, X_test, y_train, y_test = train_test_split(X_training, \n",
    "                                                    y_training, \n",
    "                                                    test_size = 0.25, \n",
    "                                                    random_state = 0)\n"
   ]
  },
  {
   "cell_type": "markdown",
   "metadata": {},
   "source": [
    "### Preprocessing"
   ]
  },
  {
   "cell_type": "code",
   "execution_count": 173,
   "metadata": {},
   "outputs": [],
   "source": [
    "# Feature Scaling\n",
    "from sklearn.preprocessing import StandardScaler\n",
    "standardScaler = StandardScaler()\n",
    "X_train = standardScaler.fit_transform(X_train)\n",
    "X_test = standardScaler.transform(X_test)"
   ]
  },
  {
   "cell_type": "markdown",
   "metadata": {},
   "source": [
    "### Train and Test Classifier"
   ]
  },
  {
   "cell_type": "code",
   "execution_count": 174,
   "metadata": {},
   "outputs": [],
   "source": [
    "from sklearn.neighbors import KNeighborsClassifier\n",
    "KNN_Classifier = KNeighborsClassifier(n_neighbors = 8, \n",
    "                                      weights = 'distance',\n",
    "                                      metric = 'minkowski', \n",
    "                                      p = 2)\n",
    "\n",
    "# Train\n",
    "KNN_Classifier.fit(X_train, y_train)\n",
    "\n",
    "# Predict\n",
    "y_pred = KNN_Classifier.predict(X_test)"
   ]
  },
  {
   "cell_type": "markdown",
   "metadata": {},
   "source": [
    "### Evaluating"
   ]
  },
  {
   "cell_type": "code",
   "execution_count": 175,
   "metadata": {},
   "outputs": [],
   "source": [
    "from sklearn.metrics import confusion_matrix\n",
    "conf_mat = confusion_matrix(y_test, y_pred)"
   ]
  },
  {
   "cell_type": "code",
   "execution_count": 176,
   "metadata": {},
   "outputs": [
    {
     "data": {
      "text/plain": [
       "array([[38,  5,  9,  2],\n",
       "       [ 9, 27,  2,  4],\n",
       "       [ 7,  1, 37,  0],\n",
       "       [ 9,  5,  4, 41]])"
      ]
     },
     "execution_count": 176,
     "metadata": {},
     "output_type": "execute_result"
    }
   ],
   "source": [
    "conf_mat"
   ]
  },
  {
   "cell_type": "code",
   "execution_count": 177,
   "metadata": {},
   "outputs": [
    {
     "name": "stdout",
     "output_type": "stream",
     "text": [
      "Validation Point :  143\n",
      "Validation Accuracy:  0.715\n"
     ]
    }
   ],
   "source": [
    "validation_point = 0\n",
    "for i in range(conf_mat.shape[0]):\n",
    "    for j in range(conf_mat.shape[1]):\n",
    "        if i == j :\n",
    "            validation_point = validation_point + conf_mat[i,j]\n",
    "        \n",
    "validation_accuracy = validation_point / sum(sum(conf_mat))\n",
    "print('Validation Point : ', validation_point)\n",
    "print('Validation Accuracy: ', validation_accuracy)"
   ]
  },
  {
   "cell_type": "markdown",
   "metadata": {},
   "source": [
    "### New Prediction"
   ]
  },
  {
   "cell_type": "code",
   "execution_count": 178,
   "metadata": {},
   "outputs": [],
   "source": [
    "predict_set = pd.read_csv(\"DataTrain_Tugas3_AI.csv\")\n",
    "X_predict = training_set.iloc[:, 1:5].values\n",
    "\n",
    "y_predict = KNN_Classifier.predict(X_predict)"
   ]
  },
  {
   "cell_type": "code",
   "execution_count": 183,
   "metadata": {},
   "outputs": [
    {
     "data": {
      "text/plain": [
       "array([1, 0, 3, 0, 1, 0, 1, 1, 3, 3, 3, 3, 2, 0, 0, 3, 3, 0, 2, 1, 2, 1,\n",
       "       3, 0, 3, 0, 1, 1, 2, 1, 3, 3, 1, 0, 0, 0, 0, 1, 0, 2, 2, 3, 0, 3,\n",
       "       2, 3, 1, 1, 1, 3, 2, 2, 1, 2, 2, 3, 0, 0, 3, 3, 3, 1, 2, 0, 1, 0,\n",
       "       3, 3, 3, 3, 1, 3, 2, 0, 1, 2, 2, 1, 2, 2, 0, 2, 0, 1, 0, 3, 3, 0,\n",
       "       3, 3, 0, 0, 1, 3, 3, 3, 1, 3, 0, 2, 1, 3, 3, 3, 3, 1, 2, 1, 3, 0,\n",
       "       2, 1, 3, 0, 3, 1, 3, 1, 0, 1, 2, 2, 0, 3, 2, 3, 2, 0, 0, 2, 0, 1,\n",
       "       3, 2, 0, 3, 1, 0, 0, 1, 1, 2, 3, 2, 1, 1, 2, 0, 3, 1, 1, 2, 3, 2,\n",
       "       1, 1, 3, 2, 3, 2, 3, 1, 3, 3, 0, 2, 3, 3, 0, 3, 2, 1, 2, 1, 3, 0,\n",
       "       2, 1, 1, 0, 1, 2, 2, 3, 2, 2, 3, 0, 1, 3, 1, 1, 1, 2, 3, 1, 0, 1,\n",
       "       3, 2, 0, 3, 0, 3, 3, 0, 0, 1, 2, 3, 2, 2, 3, 1, 1, 1, 2, 1, 1, 2,\n",
       "       3, 2, 2, 2, 1, 0, 1, 2, 1, 3, 3, 0, 2, 2, 0, 1, 0, 0, 1, 0, 2, 1,\n",
       "       3, 2, 2, 0, 3, 3, 0, 1, 2, 3, 3, 3, 2, 3, 1, 3, 1, 1, 3, 3, 0, 0,\n",
       "       1, 0, 3, 2, 2, 1, 1, 2, 3, 1, 1, 2, 2, 1, 2, 3, 1, 3, 0, 2, 2, 0,\n",
       "       1, 0, 2, 3, 3, 0, 2, 0, 3, 0, 1, 3, 0, 0, 1, 0, 1, 2, 1, 3, 2, 1,\n",
       "       3, 0, 0, 2, 3, 1, 1, 1, 0, 1, 1, 0, 2, 0, 1, 3, 0, 3, 3, 1, 0, 3,\n",
       "       0, 3, 3, 0, 3, 1, 1, 2, 0, 2, 1, 1, 1, 0, 2, 3, 3, 0, 3, 3, 0, 2,\n",
       "       3, 1, 3, 2, 2, 1, 2, 1, 3, 0, 0, 0, 1, 3, 0, 2, 1, 2, 1, 0, 3, 3,\n",
       "       1, 1, 1, 2, 3, 1, 2, 2, 0, 2, 0, 1, 2, 0, 1, 0, 3, 0, 2, 1, 3, 2,\n",
       "       2, 1, 3, 1, 3, 3, 2, 3, 2, 2, 2, 2, 2, 3, 3, 2, 3, 0, 2, 2, 3, 3,\n",
       "       3, 2, 2, 2, 3, 3, 3, 2, 3, 2, 3, 3, 2, 2, 2, 3, 3, 2, 3, 3, 2, 2,\n",
       "       3, 2, 3, 3, 2, 3, 0, 3, 3, 2, 3, 3, 2, 3, 2, 0, 2, 3, 3, 2, 3, 2,\n",
       "       3, 2, 2, 3, 3, 0, 3, 2, 3, 2, 3, 3, 0, 3, 0, 3, 3, 3, 2, 2, 2, 3,\n",
       "       0, 3, 3, 3, 3, 2, 0, 3, 2, 2, 3, 3, 2, 2, 2, 2, 2, 3, 2, 3, 3, 1,\n",
       "       3, 3, 3, 2, 2, 2, 3, 3, 2, 3, 2, 2, 2, 2, 2, 2, 2, 2, 3, 2, 2, 3,\n",
       "       2, 2, 3, 2, 2, 2, 2, 2, 3, 3, 3, 2, 2, 2, 0, 3, 2, 2, 2, 3, 2, 2,\n",
       "       3, 2, 1, 2, 2, 3, 3, 3, 2, 2, 3, 3, 3, 3, 2, 3, 2, 2, 3, 1, 2, 2,\n",
       "       3, 3, 2, 3, 2, 0, 2, 2, 3, 3, 3, 2, 3, 3, 2, 2, 2, 2, 2, 2, 2, 2,\n",
       "       2, 3, 2, 3, 0, 3, 3, 3, 3, 2, 2, 2, 3, 0, 3, 2, 3, 2, 3, 2, 3, 3,\n",
       "       2, 2, 3, 3, 2, 3, 3, 2, 3, 2, 2, 3, 3, 3, 2, 2, 3, 2, 3, 3, 2, 3,\n",
       "       3, 3, 3, 2, 3, 2, 2, 3, 3, 3, 3, 3, 3, 2, 0, 2, 3, 2, 2, 3, 3, 3,\n",
       "       2, 3, 2, 2, 3, 2, 3, 1, 3, 2, 3, 2, 3, 2, 3, 3, 2, 3, 3, 3, 3, 2,\n",
       "       3, 2, 3, 3, 2, 2, 3, 2, 2, 2, 2, 3, 3, 2, 3, 3, 2, 3, 2, 2, 3, 3,\n",
       "       2, 3, 3, 0, 2, 2, 2, 3, 0, 3, 2, 2, 3, 3, 2, 2, 2, 0, 2, 0, 2, 2,\n",
       "       2, 2, 2, 3, 2, 2, 3, 3, 3, 2, 3, 2, 2, 3, 3, 3, 3, 2, 2, 3, 3, 2,\n",
       "       2, 3, 3, 3, 2, 0, 3, 2, 3, 2, 3, 3, 3, 0, 3, 3, 3, 3, 2, 2, 3, 2,\n",
       "       2, 3, 2, 3, 2, 3, 2, 3, 3, 2, 2, 3, 3, 3, 2, 3, 3, 2, 2, 2, 3, 3,\n",
       "       3, 3, 3, 2, 3, 2, 3, 3])"
      ]
     },
     "execution_count": 183,
     "metadata": {},
     "output_type": "execute_result"
    }
   ],
   "source": [
    "y_predict"
   ]
  },
  {
   "cell_type": "code",
   "execution_count": 184,
   "metadata": {},
   "outputs": [],
   "source": [
    "np.savetxt(\"Tebakan.csv\", y_predict.astype(int), delimiter=\",\")"
   ]
  },
  {
   "cell_type": "code",
   "execution_count": null,
   "metadata": {},
   "outputs": [],
   "source": []
  }
 ],
 "metadata": {
  "kernelspec": {
   "display_name": "Python 3",
   "language": "python",
   "name": "python3"
  },
  "language_info": {
   "codemirror_mode": {
    "name": "ipython",
    "version": 3
   },
   "file_extension": ".py",
   "mimetype": "text/x-python",
   "name": "python",
   "nbconvert_exporter": "python",
   "pygments_lexer": "ipython3",
   "version": "3.6.5"
  }
 },
 "nbformat": 4,
 "nbformat_minor": 2
}
